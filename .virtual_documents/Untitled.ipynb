import pandas as pd 


from sklearn.ensemble import RandomForestClassifier


data = pd.read_excel("iris-train.xlsx")


data.head()


x = data.iloc[:, : -1]
y = data.iloc[:, -1]


x


y


model = RandomForestClassifier()


model.fit(x.values ,y.values)


predictions = model.predict([[5.4, 3, 4.5, 1.5]])


predictions


datatest = pd.read_excel("iris-test.xlsx")


t = datatest.iloc[:, : -1]


t


predictions = model.predict(t.values)


df = pd.DataFrame(predictions, columns=['flower'])


df



