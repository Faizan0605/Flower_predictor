import pandas as pd 


from sklearn.ensemble import RandomForestClassifier


data = pd.read_excel("iris-train.xlsx")


data.head()


x = data.iloc[:, : -1]
y = data.iloc[:, -1]


x


y


model = RandomForestClassifier()


model.fit(x.values ,y.values)


datatest = pd.read_excel("iris-test.xlsx")


dr = datatest.iloc[:, : -1].values


predictions = model.predict(dr) #predicted name of flower


dfp = pd.DataFrame(predictions, columns=['predicted flowers'])


actual = datatest.iloc[:, -1].values #actual name of flower


dfa = pd.DataFrame(actual, columns=['Flowers in test file']) 


combined = pd.concat([dfp, dfa], axis=1)


combined


#checking acuracy
count = 0
for i in range(0, len(actual)):
    if actual[i] == predictions[i]:
        count = count+1
print((count*100)/len(actual))



